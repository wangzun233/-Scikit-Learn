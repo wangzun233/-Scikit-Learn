{
 "cells": [
  {
   "cell_type": "markdown",
   "metadata": {},
   "source": [
    "1. 获取数据\n",
    "2. 数据集划分\n",
    "3. 特征工程\n",
    "   1. 标准化\n",
    "4. KNN预估器流程\n",
    "5. 模型评估"
   ]
  },
  {
   "cell_type": "code",
   "execution_count": 2,
   "metadata": {},
   "outputs": [],
   "source": [
    "from sklearn.datasets import load_iris#获取数据集\n",
    "from sklearn.model_selection import train_test_split#划分数据集\n",
    "from sklearn.preprocessing import StandardScaler#特征工程：标准化\n",
    "from sklearn.neighbors import KNeighborsClassifier#KNN\n",
    "from sklearn.model_selection import GridSearchCV#网格搜索与交叉验证"
   ]
  },
  {
   "cell_type": "code",
   "execution_count": 5,
   "metadata": {},
   "outputs": [],
   "source": [
    "def knn_iris():\n",
    "    #获取数据集\n",
    "    iris = load_iris()\n",
    "    #划分数据集\n",
    "    x_train,x_test,y_train,y_test = train_test_split(iris.data,iris.target,random_state = 10)\n",
    "    #特征工程：标准化\n",
    "    #标准化数据集\n",
    "    transer = StandardScaler()\n",
    "    x_train = transer.fit_transform(x_train)\n",
    "    #标准化测试集\n",
    "    x_test = transer.transform(x_test)\n",
    "    #KNN算法预估器\n",
    "    estimator = KNeighborsClassifier()\n",
    "    #加入网格搜索，交叉验证\n",
    "    param_dict = {\"n_neighbors\":[1,3,5,7,20,11]}\n",
    "    estimator = GridSearchCV(estimator,param_grid=param_dict,cv=10);#GridSearchCV(预估器，k的值，交叉验证几次)\n",
    "    estimator.fit(x_train,y_train);\n",
    "    #模型评估\n",
    "    #1直接对比真实值和预测值\n",
    "    y_predict = estimator.predict(x_test)\n",
    "    print(\"y_predict:\\n\",y_predict)\n",
    "    print(\"直接对比：\\n\",y_test == y_predict)\n",
    "    #2计算准确率\n",
    "    score = estimator.score(x_test,y_test)\n",
    "    print(\"准确率：\\n\",score)\n",
    "    #加入网格搜索，交叉验证\n",
    "    print(\"最佳参数：\\n\",estimator.best_params_)\n",
    "    print(\"最佳结果：\\n\",estimator.best_score_)\n",
    "    print(\"最佳估计器：\\n\",estimator.best_estimator_)\n",
    "    print(\"交叉验证结果：\\n\",estimator.cv_results_)\n",
    "    return None\n",
    "    "
   ]
  },
  {
   "cell_type": "code",
   "execution_count": 6,
   "metadata": {
    "scrolled": true
   },
   "outputs": [
    {
     "name": "stdout",
     "output_type": "stream",
     "text": [
      "y_predict:\n",
      " [1 2 0 1 0 1 2 1 0 1 1 2 1 0 0 2 1 0 0 0 2 2 2 0 1 0 1 1 1 2 1 1 2 2 2 0 2\n",
      " 2]\n",
      "直接对比：\n",
      " [ True  True  True  True  True  True False  True  True  True  True  True\n",
      "  True  True  True  True  True  True  True  True  True  True  True  True\n",
      "  True  True  True  True  True  True  True  True  True  True  True  True\n",
      "  True  True]\n",
      "准确率：\n",
      " 0.9736842105263158\n",
      "最佳参数：\n",
      " {'n_neighbors': 5}\n",
      "最佳结果：\n",
      " 0.9375\n",
      "最佳估计器：\n",
      " KNeighborsClassifier(algorithm='auto', leaf_size=30, metric='minkowski',\n",
      "                     metric_params=None, n_jobs=None, n_neighbors=5, p=2,\n",
      "                     weights='uniform')\n",
      "交叉验证结果：\n",
      " {'mean_fit_time': array([0.00049777, 0.00039349, 0.00029454, 0.00029945, 0.00039229,\n",
      "       0.00019944]), 'std_fit_time': array([0.00049807, 0.00048216, 0.00044999, 0.00045742, 0.00048058,\n",
      "       0.00039887]), 'mean_score_time': array([0.00082507, 0.00130355, 0.00089965, 0.00080116, 0.00080428,\n",
      "       0.0008975 ]), 'std_score_time': array([0.00061846, 0.0010069 , 0.0003009 , 0.00040106, 0.00040267,\n",
      "       0.00030091]), 'param_n_neighbors': masked_array(data=[1, 3, 5, 7, 20, 11],\n",
      "             mask=[False, False, False, False, False, False],\n",
      "       fill_value='?',\n",
      "            dtype=object), 'params': [{'n_neighbors': 1}, {'n_neighbors': 3}, {'n_neighbors': 5}, {'n_neighbors': 7}, {'n_neighbors': 20}, {'n_neighbors': 11}], 'split0_test_score': array([0.91666667, 0.83333333, 0.91666667, 0.83333333, 0.75      ,\n",
      "       0.83333333]), 'split1_test_score': array([0.83333333, 0.83333333, 0.91666667, 0.91666667, 0.91666667,\n",
      "       0.91666667]), 'split2_test_score': array([0.91666667, 0.91666667, 0.91666667, 0.91666667, 0.91666667,\n",
      "       0.91666667]), 'split3_test_score': array([0.91666667, 0.91666667, 0.91666667, 0.91666667, 0.91666667,\n",
      "       0.91666667]), 'split4_test_score': array([1., 1., 1., 1., 1., 1.]), 'split5_test_score': array([0.90909091, 0.90909091, 1.        , 0.90909091, 0.81818182,\n",
      "       1.        ]), 'split6_test_score': array([0.90909091, 0.81818182, 0.81818182, 0.90909091, 0.81818182,\n",
      "       0.90909091]), 'split7_test_score': array([1., 1., 1., 1., 1., 1.]), 'split8_test_score': array([1. , 1. , 0.9, 1. , 0.9, 0.9]), 'split9_test_score': array([0.77777778, 1.        , 1.        , 1.        , 1.        ,\n",
      "       1.        ]), 'mean_test_score': array([0.91964286, 0.91964286, 0.9375    , 0.9375    , 0.90178571,\n",
      "       0.9375    ]), 'std_test_score': array([0.06589912, 0.07100456, 0.0566529 , 0.05408752, 0.08166327,\n",
      "       0.05483273]), 'rank_test_score': array([4, 4, 1, 1, 6, 1])}\n"
     ]
    }
   ],
   "source": [
    "knn_iris()"
   ]
  }
 ],
 "metadata": {
  "kernelspec": {
   "display_name": "Python 3",
   "language": "python",
   "name": "python3"
  },
  "language_info": {
   "codemirror_mode": {
    "name": "ipython",
    "version": 3
   },
   "file_extension": ".py",
   "mimetype": "text/x-python",
   "name": "python",
   "nbconvert_exporter": "python",
   "pygments_lexer": "ipython3",
   "version": "3.7.4"
  }
 },
 "nbformat": 4,
 "nbformat_minor": 2
}
