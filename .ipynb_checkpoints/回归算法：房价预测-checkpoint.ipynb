{
 "cells": [
  {
   "cell_type": "code",
   "execution_count": 1,
   "metadata": {},
   "outputs": [],
   "source": [
    "from sklearn.datasets import load_boston\n",
    "from sklearn.model_selection import train_test_split\n",
    "from sklearn.preprocessing import StandardScaler\n",
    "from sklearn.linear_model import LinearRegression"
   ]
  },
  {
   "cell_type": "code",
   "execution_count": 2,
   "metadata": {},
   "outputs": [
    {
     "name": "stdout",
     "output_type": "stream",
     "text": [
      "特征数量：\n",
      " (506, 13)\n"
     ]
    }
   ],
   "source": [
    "boston = load_boston()\n",
    "print(\"特征数量：\\n\",boston.data.shape)"
   ]
  },
  {
   "cell_type": "code",
   "execution_count": 3,
   "metadata": {},
   "outputs": [
    {
     "data": {
      "text/plain": [
       "{'data': array([[6.3200e-03, 1.8000e+01, 2.3100e+00, ..., 1.5300e+01, 3.9690e+02,\n",
       "         4.9800e+00],\n",
       "        [2.7310e-02, 0.0000e+00, 7.0700e+00, ..., 1.7800e+01, 3.9690e+02,\n",
       "         9.1400e+00],\n",
       "        [2.7290e-02, 0.0000e+00, 7.0700e+00, ..., 1.7800e+01, 3.9283e+02,\n",
       "         4.0300e+00],\n",
       "        ...,\n",
       "        [6.0760e-02, 0.0000e+00, 1.1930e+01, ..., 2.1000e+01, 3.9690e+02,\n",
       "         5.6400e+00],\n",
       "        [1.0959e-01, 0.0000e+00, 1.1930e+01, ..., 2.1000e+01, 3.9345e+02,\n",
       "         6.4800e+00],\n",
       "        [4.7410e-02, 0.0000e+00, 1.1930e+01, ..., 2.1000e+01, 3.9690e+02,\n",
       "         7.8800e+00]]),\n",
       " 'target': array([24. , 21.6, 34.7, 33.4, 36.2, 28.7, 22.9, 27.1, 16.5, 18.9, 15. ,\n",
       "        18.9, 21.7, 20.4, 18.2, 19.9, 23.1, 17.5, 20.2, 18.2, 13.6, 19.6,\n",
       "        15.2, 14.5, 15.6, 13.9, 16.6, 14.8, 18.4, 21. , 12.7, 14.5, 13.2,\n",
       "        13.1, 13.5, 18.9, 20. , 21. , 24.7, 30.8, 34.9, 26.6, 25.3, 24.7,\n",
       "        21.2, 19.3, 20. , 16.6, 14.4, 19.4, 19.7, 20.5, 25. , 23.4, 18.9,\n",
       "        35.4, 24.7, 31.6, 23.3, 19.6, 18.7, 16. , 22.2, 25. , 33. , 23.5,\n",
       "        19.4, 22. , 17.4, 20.9, 24.2, 21.7, 22.8, 23.4, 24.1, 21.4, 20. ,\n",
       "        20.8, 21.2, 20.3, 28. , 23.9, 24.8, 22.9, 23.9, 26.6, 22.5, 22.2,\n",
       "        23.6, 28.7, 22.6, 22. , 22.9, 25. , 20.6, 28.4, 21.4, 38.7, 43.8,\n",
       "        33.2, 27.5, 26.5, 18.6, 19.3, 20.1, 19.5, 19.5, 20.4, 19.8, 19.4,\n",
       "        21.7, 22.8, 18.8, 18.7, 18.5, 18.3, 21.2, 19.2, 20.4, 19.3, 22. ,\n",
       "        20.3, 20.5, 17.3, 18.8, 21.4, 15.7, 16.2, 18. , 14.3, 19.2, 19.6,\n",
       "        23. , 18.4, 15.6, 18.1, 17.4, 17.1, 13.3, 17.8, 14. , 14.4, 13.4,\n",
       "        15.6, 11.8, 13.8, 15.6, 14.6, 17.8, 15.4, 21.5, 19.6, 15.3, 19.4,\n",
       "        17. , 15.6, 13.1, 41.3, 24.3, 23.3, 27. , 50. , 50. , 50. , 22.7,\n",
       "        25. , 50. , 23.8, 23.8, 22.3, 17.4, 19.1, 23.1, 23.6, 22.6, 29.4,\n",
       "        23.2, 24.6, 29.9, 37.2, 39.8, 36.2, 37.9, 32.5, 26.4, 29.6, 50. ,\n",
       "        32. , 29.8, 34.9, 37. , 30.5, 36.4, 31.1, 29.1, 50. , 33.3, 30.3,\n",
       "        34.6, 34.9, 32.9, 24.1, 42.3, 48.5, 50. , 22.6, 24.4, 22.5, 24.4,\n",
       "        20. , 21.7, 19.3, 22.4, 28.1, 23.7, 25. , 23.3, 28.7, 21.5, 23. ,\n",
       "        26.7, 21.7, 27.5, 30.1, 44.8, 50. , 37.6, 31.6, 46.7, 31.5, 24.3,\n",
       "        31.7, 41.7, 48.3, 29. , 24. , 25.1, 31.5, 23.7, 23.3, 22. , 20.1,\n",
       "        22.2, 23.7, 17.6, 18.5, 24.3, 20.5, 24.5, 26.2, 24.4, 24.8, 29.6,\n",
       "        42.8, 21.9, 20.9, 44. , 50. , 36. , 30.1, 33.8, 43.1, 48.8, 31. ,\n",
       "        36.5, 22.8, 30.7, 50. , 43.5, 20.7, 21.1, 25.2, 24.4, 35.2, 32.4,\n",
       "        32. , 33.2, 33.1, 29.1, 35.1, 45.4, 35.4, 46. , 50. , 32.2, 22. ,\n",
       "        20.1, 23.2, 22.3, 24.8, 28.5, 37.3, 27.9, 23.9, 21.7, 28.6, 27.1,\n",
       "        20.3, 22.5, 29. , 24.8, 22. , 26.4, 33.1, 36.1, 28.4, 33.4, 28.2,\n",
       "        22.8, 20.3, 16.1, 22.1, 19.4, 21.6, 23.8, 16.2, 17.8, 19.8, 23.1,\n",
       "        21. , 23.8, 23.1, 20.4, 18.5, 25. , 24.6, 23. , 22.2, 19.3, 22.6,\n",
       "        19.8, 17.1, 19.4, 22.2, 20.7, 21.1, 19.5, 18.5, 20.6, 19. , 18.7,\n",
       "        32.7, 16.5, 23.9, 31.2, 17.5, 17.2, 23.1, 24.5, 26.6, 22.9, 24.1,\n",
       "        18.6, 30.1, 18.2, 20.6, 17.8, 21.7, 22.7, 22.6, 25. , 19.9, 20.8,\n",
       "        16.8, 21.9, 27.5, 21.9, 23.1, 50. , 50. , 50. , 50. , 50. , 13.8,\n",
       "        13.8, 15. , 13.9, 13.3, 13.1, 10.2, 10.4, 10.9, 11.3, 12.3,  8.8,\n",
       "         7.2, 10.5,  7.4, 10.2, 11.5, 15.1, 23.2,  9.7, 13.8, 12.7, 13.1,\n",
       "        12.5,  8.5,  5. ,  6.3,  5.6,  7.2, 12.1,  8.3,  8.5,  5. , 11.9,\n",
       "        27.9, 17.2, 27.5, 15. , 17.2, 17.9, 16.3,  7. ,  7.2,  7.5, 10.4,\n",
       "         8.8,  8.4, 16.7, 14.2, 20.8, 13.4, 11.7,  8.3, 10.2, 10.9, 11. ,\n",
       "         9.5, 14.5, 14.1, 16.1, 14.3, 11.7, 13.4,  9.6,  8.7,  8.4, 12.8,\n",
       "        10.5, 17.1, 18.4, 15.4, 10.8, 11.8, 14.9, 12.6, 14.1, 13. , 13.4,\n",
       "        15.2, 16.1, 17.8, 14.9, 14.1, 12.7, 13.5, 14.9, 20. , 16.4, 17.7,\n",
       "        19.5, 20.2, 21.4, 19.9, 19. , 19.1, 19.1, 20.1, 19.9, 19.6, 23.2,\n",
       "        29.8, 13.8, 13.3, 16.7, 12. , 14.6, 21.4, 23. , 23.7, 25. , 21.8,\n",
       "        20.6, 21.2, 19.1, 20.6, 15.2,  7. ,  8.1, 13.6, 20.1, 21.8, 24.5,\n",
       "        23.1, 19.7, 18.3, 21.2, 17.5, 16.8, 22.4, 20.6, 23.9, 22. , 11.9]),\n",
       " 'feature_names': array(['CRIM', 'ZN', 'INDUS', 'CHAS', 'NOX', 'RM', 'AGE', 'DIS', 'RAD',\n",
       "        'TAX', 'PTRATIO', 'B', 'LSTAT'], dtype='<U7'),\n",
       " 'DESCR': \".. _boston_dataset:\\n\\nBoston house prices dataset\\n---------------------------\\n\\n**Data Set Characteristics:**  \\n\\n    :Number of Instances: 506 \\n\\n    :Number of Attributes: 13 numeric/categorical predictive. Median Value (attribute 14) is usually the target.\\n\\n    :Attribute Information (in order):\\n        - CRIM     per capita crime rate by town\\n        - ZN       proportion of residential land zoned for lots over 25,000 sq.ft.\\n        - INDUS    proportion of non-retail business acres per town\\n        - CHAS     Charles River dummy variable (= 1 if tract bounds river; 0 otherwise)\\n        - NOX      nitric oxides concentration (parts per 10 million)\\n        - RM       average number of rooms per dwelling\\n        - AGE      proportion of owner-occupied units built prior to 1940\\n        - DIS      weighted distances to five Boston employment centres\\n        - RAD      index of accessibility to radial highways\\n        - TAX      full-value property-tax rate per $10,000\\n        - PTRATIO  pupil-teacher ratio by town\\n        - B        1000(Bk - 0.63)^2 where Bk is the proportion of blacks by town\\n        - LSTAT    % lower status of the population\\n        - MEDV     Median value of owner-occupied homes in $1000's\\n\\n    :Missing Attribute Values: None\\n\\n    :Creator: Harrison, D. and Rubinfeld, D.L.\\n\\nThis is a copy of UCI ML housing dataset.\\nhttps://archive.ics.uci.edu/ml/machine-learning-databases/housing/\\n\\n\\nThis dataset was taken from the StatLib library which is maintained at Carnegie Mellon University.\\n\\nThe Boston house-price data of Harrison, D. and Rubinfeld, D.L. 'Hedonic\\nprices and the demand for clean air', J. Environ. Economics & Management,\\nvol.5, 81-102, 1978.   Used in Belsley, Kuh & Welsch, 'Regression diagnostics\\n...', Wiley, 1980.   N.B. Various transformations are used in the table on\\npages 244-261 of the latter.\\n\\nThe Boston house-price data has been used in many machine learning papers that address regression\\nproblems.   \\n     \\n.. topic:: References\\n\\n   - Belsley, Kuh & Welsch, 'Regression diagnostics: Identifying Influential Data and Sources of Collinearity', Wiley, 1980. 244-261.\\n   - Quinlan,R. (1993). Combining Instance-Based and Model-Based Learning. In Proceedings on the Tenth International Conference of Machine Learning, 236-243, University of Massachusetts, Amherst. Morgan Kaufmann.\\n\",\n",
       " 'filename': 'C:\\\\ProgramData\\\\Anaconda3\\\\lib\\\\site-packages\\\\sklearn\\\\datasets\\\\data\\\\boston_house_prices.csv'}"
      ]
     },
     "execution_count": 3,
     "metadata": {},
     "output_type": "execute_result"
    }
   ],
   "source": [
    "boston"
   ]
  },
  {
   "cell_type": "code",
   "execution_count": 4,
   "metadata": {},
   "outputs": [],
   "source": [
    "x_train,x_test,y_train,y_test = train_test_split(boston.data,boston.target,random_state=22)#划分数据集"
   ]
  },
  {
   "cell_type": "code",
   "execution_count": 5,
   "metadata": {},
   "outputs": [],
   "source": [
    "transfer = StandardScaler()#标准化\n",
    "x_train = transfer.fit_transform(x_train)#标准化数据集\n",
    "x_test = transfer.transform(x_test)#标准化测试集"
   ]
  },
  {
   "cell_type": "code",
   "execution_count": 6,
   "metadata": {},
   "outputs": [
    {
     "data": {
      "text/plain": [
       "LinearRegression(copy_X=True, fit_intercept=True, n_jobs=None, normalize=False)"
      ]
     },
     "execution_count": 6,
     "metadata": {},
     "output_type": "execute_result"
    }
   ],
   "source": [
    "estimator = LinearRegression()#正规方程预估器\n",
    "estimator.fit(x_train,y_train)"
   ]
  },
  {
   "cell_type": "code",
   "execution_count": 7,
   "metadata": {},
   "outputs": [
    {
     "name": "stdout",
     "output_type": "stream",
     "text": [
      "正规方程权重系数为：\n",
      " [-0.64817766  1.14673408 -0.05949444  0.74216553 -1.95515269  2.70902585\n",
      " -0.07737374 -3.29889391  2.50267196 -1.85679269 -1.75044624  0.87341624\n",
      " -3.91336869]\n",
      "正规方程偏值为：\n",
      " 22.62137203166228\n"
     ]
    }
   ],
   "source": [
    "print(\"正规方程权重系数为：\\n\",estimator.coef_)\n",
    "#权重的数量分别对应特征的数量\n",
    "print(\"正规方程偏值为：\\n\",estimator.intercept_)"
   ]
  },
  {
   "cell_type": "code",
   "execution_count": 8,
   "metadata": {},
   "outputs": [
    {
     "name": "stdout",
     "output_type": "stream",
     "text": [
      "预测房价：\n",
      " [28.22944896 31.5122308  21.11612841 32.6663189  20.0023467  19.07315705\n",
      " 21.09772798 19.61400153 19.61907059 32.87611987 20.97911561 27.52898011\n",
      " 15.54701758 19.78630176 36.88641203 18.81202132  9.35912225 18.49452615\n",
      " 30.66499315 24.30184448 19.08220837 34.11391208 29.81386585 17.51775647\n",
      " 34.91026707 26.54967053 34.71035391 27.4268996  19.09095832 14.92742976\n",
      " 30.86877936 15.88271775 37.17548808  7.72101675 16.24074861 17.19211608\n",
      "  7.42140081 20.0098852  40.58481466 28.93190595 25.25404307 17.74970308\n",
      " 38.76446932  6.87996052 21.80450956 25.29110265 20.427491   20.4698034\n",
      " 17.25330064 26.12442519  8.48268143 27.50871869 30.58284841 16.56039764\n",
      "  9.38919181 35.54434377 32.29801978 21.81298945 17.60263689 22.0804256\n",
      " 23.49262401 24.10617033 20.1346492  38.5268066  24.58319594 19.78072415\n",
      " 13.93429891  6.75507808 42.03759064 21.9215625  16.91352899 22.58327744\n",
      " 40.76440704 21.3998946  36.89912238 27.19273661 20.97945544 20.37925063\n",
      " 25.3536439  22.18729123 31.13342301 20.39451125 23.99224334 31.54729547\n",
      " 26.74581308 20.90199941 29.08225233 21.98331503 26.29101202 20.17329401\n",
      " 25.49225305 24.09171045 19.90739221 16.35154974 15.25184758 18.40766132\n",
      " 24.83797801 16.61703662 20.89470344 26.70854061 20.7591883  17.88403312\n",
      " 24.28656105 23.37651493 21.64202047 36.81476219 15.86570054 21.42338732\n",
      " 32.81366203 33.74086414 20.61688336 26.88191023 22.65739323 17.35731771\n",
      " 21.67699248 21.65034728 27.66728556 25.04691687 23.73976625 14.6649641\n",
      " 15.17700342  3.81620663 29.18194848 20.68544417 22.32934783 28.01568563\n",
      " 28.58237108]\n",
      "正规方程-均方误差：\n",
      " 20.627513763095386\n"
     ]
    }
   ],
   "source": [
    "#模型评估\n",
    "from sklearn.metrics import mean_squared_error#均方误差\n",
    "y_predict = estimator.predict(x_test)\n",
    "print(\"预测房价：\\n\",y_predict)\n",
    "error = mean_squared_error(y_test,y_predict)\n",
    "print(\"正规方程-均方误差：\\n\",error)"
   ]
  },
  {
   "cell_type": "markdown",
   "metadata": {},
   "source": [
    "# 梯度下降"
   ]
  },
  {
   "cell_type": "code",
   "execution_count": 16,
   "metadata": {},
   "outputs": [
    {
     "data": {
      "text/plain": [
       "SGDRegressor(alpha=0.0001, average=False, early_stopping=False, epsilon=0.1,\n",
       "             eta0=0.01, fit_intercept=True, l1_ratio=0.15,\n",
       "             learning_rate='constant', loss='squared_loss', max_iter=1000,\n",
       "             n_iter_no_change=5, penalty='l1', power_t=0.25, random_state=None,\n",
       "             shuffle=True, tol=0.001, validation_fraction=0.1, verbose=0,\n",
       "             warm_start=False)"
      ]
     },
     "execution_count": 16,
     "metadata": {},
     "output_type": "execute_result"
    }
   ],
   "source": [
    "from sklearn.linear_model import SGDRegressor\n",
    "estimator = SGDRegressor(learning_rate=\"constant\",eta0=0.01,max_iter=1000,penalty=\"l1\")#梯度下降预估器\n",
    "estimator.fit(x_train,y_train)"
   ]
  },
  {
   "cell_type": "code",
   "execution_count": 18,
   "metadata": {},
   "outputs": [
    {
     "name": "stdout",
     "output_type": "stream",
     "text": [
      "预测房价：\n",
      " [29.8171496  32.86530806 21.73059049 36.91334091 20.38567868 20.15509014\n",
      " 21.92378843 19.8815764  19.66514138 34.83503001 21.6036684  29.38427114\n",
      " 15.92687445 20.52406687 38.9575785  19.31947548  8.35148071 18.89129581\n",
      " 31.86183922 24.94144842 19.99312156 34.86178442 33.85024622 17.94682546\n",
      " 36.14263115 27.52631979 35.15011988 27.75843935 19.47273889 14.61121283\n",
      " 31.1413352  14.90824252 37.32440595  7.48349475 15.92667396 17.63942804\n",
      "  6.11267701 20.91190109 44.93685727 30.04143012 26.19163954 18.81406351\n",
      " 44.70610915  6.04162989 23.16092847 26.03633636 24.68460528 21.40561383\n",
      " 19.5894125  27.45525264  8.3618087  28.08970786 34.70786714 16.4678318\n",
      "  9.63085071 36.70803802 32.39947213 22.38227957 17.29382943 22.19006133\n",
      " 24.20098072 24.95320692 20.91104684 39.65482339 25.45191332 20.5362563\n",
      " 14.47544251  5.97228769 47.39273426 22.28281176 18.37036798 23.28415663\n",
      " 42.20950292 21.65774648 38.14255251 28.57495037 20.81758168 21.91479297\n",
      " 26.02423673 22.72838569 32.44337167 20.16459223 27.28068132 30.72811287\n",
      " 27.90604455 22.05622222 30.2107021  22.55324706 27.66109291 20.08385635\n",
      " 24.68595707 26.93938076 20.83961668 15.74890982 15.96409621 19.55283199\n",
      " 25.1618533  18.07189274 21.63314566 28.14168779 21.28796991 18.49853525\n",
      " 25.12656195 24.11060265 21.88409723 40.98492293 15.92705789 21.94814565\n",
      " 33.49919391 39.79112281 21.12863852 27.21115967 26.63455999 17.35977443\n",
      " 22.15759785 20.38877183 27.08890593 24.27445837 24.6041658  15.1275604\n",
      " 16.37396037  2.96713961 30.49855293 21.89999321 22.45698369 28.99381263\n",
      " 30.30005708]\n",
      "梯度下降-均方误差：\n",
      " 25.84146829304346\n",
      "梯度下降权重系数为：\n",
      " [-0.79399966  0.87272955 -0.08667042  1.50338147 -1.94000577  2.75205838\n",
      " -0.00922595 -3.68857108  2.69081807 -1.67148512 -1.73110853  0.73049563\n",
      " -4.81523191]\n",
      "梯度下降偏值为：\n",
      " [23.28333178]\n"
     ]
    }
   ],
   "source": [
    "y_predict = estimator.predict(x_test)\n",
    "print(\"预测房价：\\n\",y_predict)\n",
    "error = mean_squared_error(y_test,y_predict)\n",
    "print(\"梯度下降-均方误差：\\n\",error)\n",
    "print(\"梯度下降权重系数为：\\n\",estimator.coef_)\n",
    "print(\"梯度下降偏值为：\\n\",estimator.intercept_)"
   ]
  },
  {
   "cell_type": "markdown",
   "metadata": {},
   "source": [
    "# 岭回归"
   ]
  },
  {
   "cell_type": "code",
   "execution_count": 13,
   "metadata": {},
   "outputs": [
    {
     "name": "stdout",
     "output_type": "stream",
     "text": [
      "预测房价：\n",
      " [28.22119941 31.49858594 21.14690941 32.64962343 20.03976087 19.07187629\n",
      " 21.11827061 19.61935024 19.64669848 32.83666525 21.01034708 27.47939935\n",
      " 15.55875601 19.80406014 36.86415472 18.79442579  9.42343608 18.5205955\n",
      " 30.67129766 24.30659711 19.07820077 34.08772738 29.77396117 17.50394928\n",
      " 34.87750492 26.52508961 34.65566473 27.42939944 19.08639183 15.04854291\n",
      " 30.84974343 15.76894723 37.18814441  7.81864035 16.27847433 17.15510852\n",
      "  7.46590141 19.98474662 40.55565604 28.96103939 25.25570196 17.7598197\n",
      " 38.78171653  6.87935126 21.76805062 25.25888823 20.47319256 20.48808719\n",
      " 17.24949519 26.11755181  8.61005188 27.47070495 30.57806886 16.57080888\n",
      "  9.42312214 35.50731907 32.20467352 21.93128073 17.62011278 22.08454636\n",
      " 23.50121152 24.08248876 20.16840581 38.47001591 24.69276673 19.7638548\n",
      " 13.96547058  6.76070715 42.04033544 21.9237625  16.88030656 22.60637682\n",
      " 40.74664535 21.44631815 36.86936185 27.17135794 21.09470367 20.40689317\n",
      " 25.35934079 22.35676321 31.1513028  20.39303322 23.99948991 31.54251155\n",
      " 26.77734347 20.89368871 29.05880401 22.00850263 26.31965286 20.04852734\n",
      " 25.46476799 24.08084537 19.90846889 16.47030743 15.27936372 18.39475348\n",
      " 24.80822272 16.62280764 20.86393724 26.70418608 20.74534996 17.89544942\n",
      " 24.25949423 23.35743497 21.51817773 36.76202304 15.90293344 21.52915882\n",
      " 32.78684766 33.68666117 20.61700911 26.78345059 22.72685584 17.40478038\n",
      " 21.67136433 21.6912557  27.66684993 25.08825085 23.72539867 14.64260535\n",
      " 15.21105331  3.81916568 29.16662813 20.67913144 22.33386579 28.01241753\n",
      " 28.531445  ]\n",
      "岭回归-均方误差：\n",
      " 20.656448214354977\n",
      "岭回归权重系数为：\n",
      " [-0.63591916  1.12109181 -0.09319611  0.74628129 -1.91888749  2.71927719\n",
      " -0.08590464 -3.25882705  2.41315949 -1.76930347 -1.74279405  0.87205004\n",
      " -3.89758657]\n",
      "岭回归偏值为：\n",
      " 22.62137203166228\n"
     ]
    }
   ],
   "source": [
    "from sklearn.linear_model import Ridge\n",
    "estimator = Ridge(max_iter=1000)\n",
    "estimator.fit(x_train,y_train)\n",
    "y_predict = estimator.predict(x_test)\n",
    "print(\"预测房价：\\n\",y_predict)\n",
    "error = mean_squared_error(y_test,y_predict)\n",
    "print(\"岭回归-均方误差：\\n\",error)\n",
    "print(\"岭回归权重系数为：\\n\",estimator.coef_)\n",
    "print(\"岭回归偏值为：\\n\",estimator.intercept_)"
   ]
  }
 ],
 "metadata": {
  "kernelspec": {
   "display_name": "Python 3",
   "language": "python",
   "name": "python3"
  },
  "language_info": {
   "codemirror_mode": {
    "name": "ipython",
    "version": 3
   },
   "file_extension": ".py",
   "mimetype": "text/x-python",
   "name": "python",
   "nbconvert_exporter": "python",
   "pygments_lexer": "ipython3",
   "version": "3.7.4"
  }
 },
 "nbformat": 4,
 "nbformat_minor": 2
}
