{
 "cells": [
  {
   "cell_type": "code",
   "execution_count": 3,
   "metadata": {},
   "outputs": [
    {
     "name": "stdout",
     "output_type": "stream",
     "text": [
      "Looking in indexes: https://pypi.tuna.tsinghua.edu.cn/simple\n",
      "Collecting jieba\n",
      "  Downloading https://pypi.tuna.tsinghua.edu.cn/packages/c6/cb/18eeb235f833b726522d7ebed54f2278ce28ba9438e3135ab0278d9792a2/jieba-0.42.1.tar.gz (19.2MB)\n",
      "Building wheels for collected packages: jieba\n",
      "  Building wheel for jieba (setup.py): started\n",
      "  Building wheel for jieba (setup.py): finished with status 'done'\n",
      "  Created wheel for jieba: filename=jieba-0.42.1-cp37-none-any.whl size=19314482 sha256=0bef7ae97d6f73c324cba8a87b258314a3ff21f6784ed61b133a6794a4ade94d\n",
      "  Stored in directory: C:\\Users\\wangzun\\AppData\\Local\\pip\\Cache\\wheels\\98\\4c\\d7\\713c0d3792b60467da4cf203f7313da907713c8eb6768b5ee8\n",
      "Successfully built jieba\n",
      "Installing collected packages: jieba\n",
      "Successfully installed jieba-0.42.1\n"
     ]
    }
   ],
   "source": [
    "#jupy安装第三方库时需要在pip前加！号，如果出现403错误尝试换源\n",
    "!pip install jieba -i https://pypi.tuna.tsinghua.edu.cn/simple"
   ]
  },
  {
   "cell_type": "code",
   "execution_count": 17,
   "metadata": {},
   "outputs": [],
   "source": [
    "from sklearn.datasets  import load_iris\n",
    "from sklearn.model_selection import train_test_split\n",
    "from sklearn.feature_extraction import DictVectorizer#字典特征提取\n",
    "from sklearn.feature_extraction.text import CountVectorizer#文字特征提取\n",
    "import jieba#引入结巴库来实现中文分词\n",
    "%matplotlib inline"
   ]
  },
  {
   "cell_type": "markdown",
   "metadata": {},
   "source": [
    "## 数据集"
   ]
  },
  {
   "cell_type": "code",
   "execution_count": 26,
   "metadata": {},
   "outputs": [],
   "source": [
    "def demo():\n",
    "    #获取数据集\n",
    "    iris = load_iris()\n",
    "    #print(\"鸢尾花数据集：\\n\",iris)\n",
    "    #print(\"查看数据集描述：\\n\",iris[\"DESCR\"])#通过字典键值查看\n",
    "    #print(\"查看特征值：\\n\",iris.data,\"\\n\",iris.data.shape)#通过函数值调用\n",
    "    \n",
    "    #训练集划分\n",
    "    # train_test_split函数调用必须要有4个接收值，两个数据集的特征值标签值test_size数据的划分量，random_state随机种子值\n",
    "    x_train,x_test,y_train,y_test = train_test_split(iris.data,iris.target, test_size = 0.2,random_state = 22)\n",
    "    print(\"训练集的特征值：\\n\",x_train,\"\\n一共有：\\n\",x_train.shape)#输出划分后的数据集和统计一共有多少数据\n",
    "    return None"
   ]
  },
  {
   "cell_type": "code",
   "execution_count": 27,
   "metadata": {},
   "outputs": [
    {
     "name": "stdout",
     "output_type": "stream",
     "text": [
      "训练集的特征值：\n",
      " [[4.8 3.1 1.6 0.2]\n",
      " [5.4 3.4 1.5 0.4]\n",
      " [5.5 2.5 4.  1.3]\n",
      " [5.5 2.6 4.4 1.2]\n",
      " [5.7 2.8 4.5 1.3]\n",
      " [5.  3.4 1.6 0.4]\n",
      " [5.1 3.4 1.5 0.2]\n",
      " [4.9 3.6 1.4 0.1]\n",
      " [6.9 3.1 5.4 2.1]\n",
      " [6.7 2.5 5.8 1.8]\n",
      " [7.  3.2 4.7 1.4]\n",
      " [6.3 3.3 4.7 1.6]\n",
      " [5.4 3.9 1.3 0.4]\n",
      " [4.4 3.2 1.3 0.2]\n",
      " [6.7 3.  5.  1.7]\n",
      " [5.6 3.  4.1 1.3]\n",
      " [5.7 2.5 5.  2. ]\n",
      " [6.5 3.  5.8 2.2]\n",
      " [5.  3.6 1.4 0.2]\n",
      " [6.1 2.8 4.  1.3]\n",
      " [6.  3.4 4.5 1.6]\n",
      " [6.7 3.  5.2 2.3]\n",
      " [5.7 4.4 1.5 0.4]\n",
      " [5.4 3.4 1.7 0.2]\n",
      " [5.  3.5 1.3 0.3]\n",
      " [4.8 3.  1.4 0.1]\n",
      " [5.5 4.2 1.4 0.2]\n",
      " [4.6 3.6 1.  0.2]\n",
      " [7.2 3.2 6.  1.8]\n",
      " [5.1 2.5 3.  1.1]\n",
      " [6.4 3.2 4.5 1.5]\n",
      " [7.3 2.9 6.3 1.8]\n",
      " [4.5 2.3 1.3 0.3]\n",
      " [5.  3.  1.6 0.2]\n",
      " [5.7 3.8 1.7 0.3]\n",
      " [5.  3.3 1.4 0.2]\n",
      " [6.2 2.2 4.5 1.5]\n",
      " [5.1 3.5 1.4 0.2]\n",
      " [6.4 2.9 4.3 1.3]\n",
      " [4.9 2.4 3.3 1. ]\n",
      " [6.3 2.5 4.9 1.5]\n",
      " [6.1 2.8 4.7 1.2]\n",
      " [5.9 3.2 4.8 1.8]\n",
      " [5.4 3.9 1.7 0.4]\n",
      " [6.  2.2 4.  1. ]\n",
      " [6.4 2.8 5.6 2.1]\n",
      " [4.8 3.4 1.9 0.2]\n",
      " [6.4 3.1 5.5 1.8]\n",
      " [5.9 3.  4.2 1.5]\n",
      " [6.5 3.  5.5 1.8]\n",
      " [6.  2.9 4.5 1.5]\n",
      " [5.5 2.4 3.8 1.1]\n",
      " [6.2 2.9 4.3 1.3]\n",
      " [5.2 4.1 1.5 0.1]\n",
      " [5.2 3.4 1.4 0.2]\n",
      " [7.7 2.6 6.9 2.3]\n",
      " [5.7 2.6 3.5 1. ]\n",
      " [4.6 3.4 1.4 0.3]\n",
      " [5.8 2.7 4.1 1. ]\n",
      " [5.8 2.7 3.9 1.2]\n",
      " [6.2 3.4 5.4 2.3]\n",
      " [5.9 3.  5.1 1.8]\n",
      " [4.6 3.1 1.5 0.2]\n",
      " [5.8 2.8 5.1 2.4]\n",
      " [5.1 3.5 1.4 0.3]\n",
      " [6.8 3.2 5.9 2.3]\n",
      " [4.9 3.1 1.5 0.1]\n",
      " [5.5 2.3 4.  1.3]\n",
      " [5.1 3.7 1.5 0.4]\n",
      " [5.8 2.7 5.1 1.9]\n",
      " [6.7 3.1 4.4 1.4]\n",
      " [6.8 3.  5.5 2.1]\n",
      " [5.2 2.7 3.9 1.4]\n",
      " [6.7 3.1 5.6 2.4]\n",
      " [5.3 3.7 1.5 0.2]\n",
      " [5.  2.  3.5 1. ]\n",
      " [6.6 2.9 4.6 1.3]\n",
      " [6.  2.7 5.1 1.6]\n",
      " [6.3 2.3 4.4 1.3]\n",
      " [7.7 3.  6.1 2.3]\n",
      " [4.9 3.  1.4 0.2]\n",
      " [4.6 3.2 1.4 0.2]\n",
      " [6.3 2.7 4.9 1.8]\n",
      " [6.6 3.  4.4 1.4]\n",
      " [6.9 3.1 4.9 1.5]\n",
      " [4.3 3.  1.1 0.1]\n",
      " [5.6 2.7 4.2 1.3]\n",
      " [4.8 3.4 1.6 0.2]\n",
      " [7.6 3.  6.6 2.1]\n",
      " [7.7 2.8 6.7 2. ]\n",
      " [4.9 2.5 4.5 1.7]\n",
      " [6.5 3.2 5.1 2. ]\n",
      " [5.1 3.3 1.7 0.5]\n",
      " [6.3 2.9 5.6 1.8]\n",
      " [6.1 2.6 5.6 1.4]\n",
      " [5.  3.4 1.5 0.2]\n",
      " [6.1 3.  4.6 1.4]\n",
      " [5.6 3.  4.5 1.5]\n",
      " [5.1 3.8 1.5 0.3]\n",
      " [5.6 2.8 4.9 2. ]\n",
      " [4.4 3.  1.3 0.2]\n",
      " [5.5 2.4 3.7 1. ]\n",
      " [4.7 3.2 1.6 0.2]\n",
      " [6.7 3.3 5.7 2.5]\n",
      " [5.2 3.5 1.5 0.2]\n",
      " [6.4 2.7 5.3 1.9]\n",
      " [6.3 2.8 5.1 1.5]\n",
      " [4.4 2.9 1.4 0.2]\n",
      " [6.1 3.  4.9 1.8]\n",
      " [4.9 3.1 1.5 0.2]\n",
      " [5.  2.3 3.3 1. ]\n",
      " [4.8 3.  1.4 0.3]\n",
      " [5.8 4.  1.2 0.2]\n",
      " [6.3 3.4 5.6 2.4]\n",
      " [5.4 3.  4.5 1.5]\n",
      " [7.1 3.  5.9 2.1]\n",
      " [6.3 3.3 6.  2.5]\n",
      " [5.1 3.8 1.9 0.4]\n",
      " [6.4 2.8 5.6 2.2]\n",
      " [7.7 3.8 6.7 2.2]] \n",
      "一共有：\n",
      " (120, 4)\n"
     ]
    }
   ],
   "source": [
    "demo()"
   ]
  },
  {
   "cell_type": "markdown",
   "metadata": {},
   "source": [
    "## 字典特征提取"
   ]
  },
  {
   "cell_type": "code",
   "execution_count": 6,
   "metadata": {},
   "outputs": [],
   "source": [
    "def dict_demo():\n",
    "    data = [{'city':'北京','temperature':100},{'city':'上海','temperature':60},{'city':'深圳','temperature':30}]\n",
    "    #实例一个转换器类\n",
    "    transfer = DictVectorizer(sparse=False)\n",
    "    #调用fit_transform（）\n",
    "    data_new = transfer.fit_transform(data)\n",
    "    print(\"data_new:\\n\",data_new)\n",
    "    print(\"特征名称:\\n\",transfer.get_feature_names())\n",
    "    return None"
   ]
  },
  {
   "cell_type": "code",
   "execution_count": 7,
   "metadata": {},
   "outputs": [
    {
     "name": "stdout",
     "output_type": "stream",
     "text": [
      "data_new:\n",
      " [[  0.   1.   0. 100.]\n",
      " [  1.   0.   0.  60.]\n",
      " [  0.   0.   1.  30.]]\n",
      "特征名称:\n",
      " ['city=上海', 'city=北京', 'city=深圳', 'temperature']\n"
     ]
    }
   ],
   "source": [
    "dict_demo()"
   ]
  },
  {
   "cell_type": "markdown",
   "metadata": {},
   "source": [
    "## 英文文本提取"
   ]
  },
  {
   "cell_type": "code",
   "execution_count": 19,
   "metadata": {},
   "outputs": [],
   "source": [
    "def count_demo():\n",
    "    data = {\"Life is short,i like like python\",\"Life is too long,i dislike python\"}\n",
    "    #实例化转换器\n",
    "    transfer = CountVectorizer()\n",
    "    #调用transform\n",
    "    data_new = transfer.fit_transform(data)\n",
    "    print(\"特征名字:\\n\",transfer.get_feature_names())\n",
    "    print(\"data_new:\\n\",data_new.toarray())#已数组形式输出\n",
    "    #增加停用词\n",
    "    tran = CountVectorizer(stop_words = [\"python\",\"is\"])\n",
    "    tdata_new = tran.fit_transform(data)\n",
    "    print(\"特征名字:\\n\",tran.get_feature_names())\n",
    "    print(\"data_new:\\n\",tdata_new.toarray())#已数组形式输出\n",
    "    \n",
    "    return None"
   ]
  },
  {
   "cell_type": "code",
   "execution_count": 20,
   "metadata": {},
   "outputs": [
    {
     "name": "stdout",
     "output_type": "stream",
     "text": [
      "特征名字:\n",
      " ['dislike', 'is', 'life', 'like', 'long', 'python', 'short', 'too']\n",
      "data_new:\n",
      " [[1 1 1 0 1 1 0 1]\n",
      " [0 1 1 2 0 1 1 0]]\n",
      "特征名字:\n",
      " ['dislike', 'life', 'like', 'long', 'short', 'too']\n",
      "data_new:\n",
      " [[1 1 0 1 0 1]\n",
      " [0 1 2 0 1 0]]\n"
     ]
    }
   ],
   "source": [
    "count_demo()"
   ]
  },
  {
   "cell_type": "markdown",
   "metadata": {},
   "source": [
    "## 实现中文分词，需要用到第三方库jieba"
   ]
  },
  {
   "cell_type": "code",
   "execution_count": 4,
   "metadata": {},
   "outputs": [],
   "source": [
    "from sklearn.model_selection import train_test_split\n",
    "from sklearn.feature_extraction.text import CountVectorizer\n",
    "import jieba"
   ]
  },
  {
   "cell_type": "code",
   "execution_count": 7,
   "metadata": {},
   "outputs": [],
   "source": [
    "#先调用jieba库进行中文分词\n",
    "#{“我是一个大好人”} = “我”,“是”,\"一个\",“大好人”\n",
    "def cut_word(text):\n",
    "    return \" \".join(list(jieba.cut(text)))\n",
    "def count_chinese_demo():\n",
    "    data = {\"在北上广深，软考证书可以混个工作居住证，也是一项大证书的积分落户筹码。\",\n",
    "            \"升职加薪必备，很多企业人力资源会以此作为审核晋升的条件。\",\n",
    "            \"简历上浓彩重抹一笔一笔一笔，毕竟是国家人力部、工信部承认的IT高级人才。\"}\n",
    "    data_new=[]\n",
    "    for sent in data:\n",
    "        data_new.append(cut_word(sent))\n",
    "    #实例化一个转化器\n",
    "    transfer = CountVectorizer()\n",
    "    #调用transform\n",
    "    data_final = transfer.fit_transform(data_new)\n",
    "    print(\"特征名字:\\n\",transfer.get_feature_names())\n",
    "    print(\"data_new:\\n\",data_final.toarray())\n",
    "    return None"
   ]
  },
  {
   "cell_type": "code",
   "execution_count": 20,
   "metadata": {},
   "outputs": [
    {
     "name": "stdout",
     "output_type": "stream",
     "text": [
      "特征名字:\n",
      " ['it', '一笔', '一项', '人力', '人力资源', '以此', '企业', '作为', '加薪', '北上', '升职', '可以', '国家', '审核', '居住证', '工作', '工信部', '广深', '很多', '必备', '承认', '晋升', '条件', '毕竟', '浓彩重', '混个', '积分', '筹码', '简历', '考证', '落户', '证书', '高级人才']\n",
      "data_new:\n",
      " [[0 0 1 0 0 0 0 0 0 1 0 1 0 0 1 1 0 1 0 0 0 0 0 0 0 1 1 1 0 1 1 1 0]\n",
      " [0 0 0 0 1 1 1 1 1 0 1 0 0 1 0 0 0 0 1 1 0 1 1 0 0 0 0 0 0 0 0 0 0]\n",
      " [1 3 0 1 0 0 0 0 0 0 0 0 1 0 0 0 1 0 0 0 1 0 0 1 1 0 0 0 1 0 0 0 1]]\n"
     ]
    }
   ],
   "source": [
    "count_chinese_demo()"
   ]
  },
  {
   "cell_type": "markdown",
   "metadata": {},
   "source": [
    "## 关键词提取输出单词占比"
   ]
  },
  {
   "cell_type": "code",
   "execution_count": 5,
   "metadata": {},
   "outputs": [],
   "source": [
    "from sklearn.feature_extraction.text import TfidfVectorizer\n",
    "def tfidf_chinese_demo():\n",
    "    data = {\"在北上广深，软考证书可以混个工作居住证，也是一项大证书的积分落户筹码。\",\n",
    "            \"升职加薪必备，很多企业人力资源会以此作为审核晋升的条件。\",\n",
    "            \"简历上浓彩重抹一笔一笔一笔，毕竟是国家人力部、工信部承认的IT高级人才。\"}\n",
    "    data_new=[]\n",
    "    for sent in data:\n",
    "        data_new.append(cut_word(sent))\n",
    "    #实例化一个转化器\n",
    "    transfer = TfidfVectorizer()\n",
    "    #调用transform\n",
    "    data_final =  transfer.fit_transform(data_new)\n",
    "    print(\"特征名字:\\n\",transfer.get_feature_names())\n",
    "    print(\"data_new:\\n\",data_final.toarray())\n",
    "    return None"
   ]
  },
  {
   "cell_type": "code",
   "execution_count": 9,
   "metadata": {},
   "outputs": [
    {
     "name": "stdout",
     "output_type": "stream",
     "text": [
      "特征名字:\n",
      " ['it', '一笔', '一项', '人力', '人力资源', '以此', '企业', '作为', '加薪', '北上', '升职', '可以', '国家', '审核', '居住证', '工作', '工信部', '广深', '很多', '必备', '承认', '晋升', '条件', '毕竟', '浓彩重', '混个', '积分', '筹码', '简历', '考证', '落户', '证书', '高级人才']\n",
      "data_new:\n",
      " [[0.         0.         0.         0.         0.30151134 0.30151134\n",
      "  0.30151134 0.30151134 0.30151134 0.         0.30151134 0.\n",
      "  0.         0.30151134 0.         0.         0.         0.\n",
      "  0.30151134 0.30151134 0.         0.30151134 0.30151134 0.\n",
      "  0.         0.         0.         0.         0.         0.\n",
      "  0.         0.         0.        ]\n",
      " [0.         0.         0.28867513 0.         0.         0.\n",
      "  0.         0.         0.         0.28867513 0.         0.28867513\n",
      "  0.         0.         0.28867513 0.28867513 0.         0.28867513\n",
      "  0.         0.         0.         0.         0.         0.\n",
      "  0.         0.28867513 0.28867513 0.28867513 0.         0.28867513\n",
      "  0.28867513 0.28867513 0.        ]\n",
      " [0.23570226 0.70710678 0.         0.23570226 0.         0.\n",
      "  0.         0.         0.         0.         0.         0.\n",
      "  0.23570226 0.         0.         0.         0.23570226 0.\n",
      "  0.         0.         0.23570226 0.         0.         0.23570226\n",
      "  0.23570226 0.         0.         0.         0.23570226 0.\n",
      "  0.         0.         0.23570226]]\n"
     ]
    }
   ],
   "source": [
    "tfidf_chinese_demo()"
   ]
  },
  {
   "cell_type": "markdown",
   "metadata": {},
   "source": [
    "## PCA降维"
   ]
  },
  {
   "cell_type": "code",
   "execution_count": 30,
   "metadata": {},
   "outputs": [],
   "source": [
    "from sklearn.decomposition  import PCA\n",
    "\n",
    "def pca_demo():\n",
    "    data = [[2,8,4,5],[6,3,0,8],[5,4,9,1]]\n",
    "    transfer = PCA(n_components=2) #降维成两个特征\n",
    "    data_new = transfer.fit_transform(data)\n",
    "    print(\"data_new:\\n\",data_new)\n",
    "    return None"
   ]
  },
  {
   "cell_type": "code",
   "execution_count": 31,
   "metadata": {},
   "outputs": [
    {
     "name": "stdout",
     "output_type": "stream",
     "text": [
      "data_new:\n",
      " [[ 1.22879107e-15  3.82970843e+00]\n",
      " [ 5.74456265e+00 -1.91485422e+00]\n",
      " [-5.74456265e+00 -1.91485422e+00]]\n"
     ]
    }
   ],
   "source": [
    "pca_demo()"
   ]
  }
 ],
 "metadata": {
  "kernelspec": {
   "display_name": "Python 3",
   "language": "python",
   "name": "python3"
  },
  "language_info": {
   "codemirror_mode": {
    "name": "ipython",
    "version": 3
   },
   "file_extension": ".py",
   "mimetype": "text/x-python",
   "name": "python",
   "nbconvert_exporter": "python",
   "pygments_lexer": "ipython3",
   "version": "3.7.4"
  }
 },
 "nbformat": 4,
 "nbformat_minor": 2
}
